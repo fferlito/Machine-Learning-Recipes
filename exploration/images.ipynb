{
 "cells": [
  {
   "cell_type": "code",
   "execution_count": 1,
   "metadata": {},
   "outputs": [],
   "source": [
    "from easyimages import EasyImageList"
   ]
  },
  {
   "cell_type": "code",
   "execution_count": 4,
   "metadata": {},
   "outputs": [
    {
     "ename": "ValueError",
     "evalue": "'a' cannot be empty unless no samples are taken",
     "output_type": "error",
     "traceback": [
      "\u001b[0;31m---------------------------------------------------------------------------\u001b[0m",
      "\u001b[0;31mValueError\u001b[0m                                Traceback (most recent call last)",
      "Cell \u001b[0;32mIn[4], line 3\u001b[0m\n\u001b[1;32m      1\u001b[0m LI \u001b[39m=\u001b[39m EasyImageList\u001b[39m.\u001b[39mfrom_folder(\u001b[39m\"\u001b[39m\u001b[39mdata/butterfly_dataset\u001b[39m\u001b[39m\"\u001b[39m)\n\u001b[1;32m      2\u001b[0m LI\u001b[39m.\u001b[39msymlink_images()\n\u001b[0;32m----> 3\u001b[0m LI\u001b[39m.\u001b[39;49mhtml(sample\u001b[39m=\u001b[39;49m\u001b[39m50\u001b[39;49m, size\u001b[39m=\u001b[39;49m\u001b[39m4\u001b[39;49m)\n",
      "File \u001b[0;32m~/.pyenv/versions/3.8.8/envs/recipes/lib/python3.8/site-packages/easyimages/easyimages.py:463\u001b[0m, in \u001b[0;36mEasyImageList.html\u001b[0;34m(self, by_class, sample, size)\u001b[0m\n\u001b[1;32m    461\u001b[0m \u001b[39melse\u001b[39;00m:\n\u001b[1;32m    462\u001b[0m     \u001b[39mif\u001b[39;00m sample:\n\u001b[0;32m--> 463\u001b[0m         images \u001b[39m=\u001b[39m np\u001b[39m.\u001b[39;49mrandom\u001b[39m.\u001b[39;49mchoice(\u001b[39mself\u001b[39;49m\u001b[39m.\u001b[39;49mimages, sample)\n\u001b[1;32m    464\u001b[0m     \u001b[39melse\u001b[39;00m:\n\u001b[1;32m    465\u001b[0m         images \u001b[39m=\u001b[39m \u001b[39mself\u001b[39m\u001b[39m.\u001b[39mimages\n",
      "File \u001b[0;32mmtrand.pyx:934\u001b[0m, in \u001b[0;36mnumpy.random.mtrand.RandomState.choice\u001b[0;34m()\u001b[0m\n",
      "\u001b[0;31mValueError\u001b[0m: 'a' cannot be empty unless no samples are taken"
     ]
    }
   ],
   "source": [
    "LI = EasyImageList.from_folder(\"data/butterfly_dataset/075.Danaus_chrysippus\")\n",
    "LI.symlink_images()\n",
    "LI.html(sample=50, size=4)\n"
   ]
  },
  {
   "cell_type": "code",
   "execution_count": null,
   "metadata": {},
   "outputs": [],
   "source": []
  }
 ],
 "metadata": {
  "kernelspec": {
   "display_name": "recipes",
   "language": "python",
   "name": "python3"
  },
  "language_info": {
   "codemirror_mode": {
    "name": "ipython",
    "version": 3
   },
   "file_extension": ".py",
   "mimetype": "text/x-python",
   "name": "python",
   "nbconvert_exporter": "python",
   "pygments_lexer": "ipython3",
   "version": "3.8.8"
  },
  "orig_nbformat": 4
 },
 "nbformat": 4,
 "nbformat_minor": 2
}
